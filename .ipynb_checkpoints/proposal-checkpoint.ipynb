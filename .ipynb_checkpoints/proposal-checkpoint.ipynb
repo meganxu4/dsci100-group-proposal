{
 "cells": [
  {
   "cell_type": "markdown",
   "id": "224dc4f7",
   "metadata": {
    "id": "224dc4f7"
   },
   "source": [
    "# Red Wine Quality Classifier\n",
    "## Introduction:\n",
    "Red wine is a popular type of wine made from dark-colored grapes, known for its rich flavor and complexity. Wine quality is typically evaluated based on factors such as aroma, taste, and acidity, etc. We use this dataset to address: “how can a business predict the quality of wine they produce based on its chemical composition by using this dataset?”\n",
    "\n",
    "\n",
    "There are 12 input variables in this dataset based on physicochemical tests: \n",
    "\n",
    "  1 - **fixed acidity** ((grams of tartaric acid)/dm3)\n",
    "  \n",
    "  2 - **volatile acidity** ((grams of acetic acid)/dm3)    \n",
    "  \n",
    "  3 -  **citric acid** (g/dm3)\n",
    "  \n",
    "  4 - **residual sugar** (g/dm3)\n",
    "  \n",
    "  5 - **chlorides**(In grams of sodium chloride per cubic decimetre)    \n",
    "  \n",
    "  6 - **free sulfur dioxide** (mg/dm3)\n",
    "  \n",
    "  7 - **total sulfur dioxide** (mg/dm3)\n",
    "  \n",
    "  8 - **density** (g/cm3)\n",
    "  \n",
    "  9 - **pH**\n",
    "  \n",
    "  10 - **sulphates** ((grams of potassium sulphate)/dm3)\n",
    "  \n",
    "  11 - **alcohol** (%)\n",
    "  \n",
    "    Output variable (based on sensory rating): \n",
    "  12 - **quality** (between 0-10): Sensory rating by human experts.\n",
    "\n",
    "\n"
   ]
  },
  {
   "cell_type": "markdown",
   "id": "48178efe",
   "metadata": {
    "id": "48178efe"
   },
   "source": [
    "## Preliminary exploratory data analysis: "
   ]
  },
  {
   "cell_type": "code",
   "execution_count": 1,
   "id": "z7bNBynXY65X",
   "metadata": {
    "colab": {
     "base_uri": "https://localhost:8080/"
    },
    "id": "z7bNBynXY65X",
    "outputId": "1ffaf3e0-1e68-4cb1-ba8b-55a6c3d9e950"
   },
   "outputs": [
    {
     "name": "stderr",
     "output_type": "stream",
     "text": [
      "also installing the dependencies ‘pillar’, ‘tibble’, ‘dplyr’, ‘clock’, ‘tidyselect’, ‘vctrs’, ‘cli’, ‘rlang’, ‘recipes’, ‘lifecycle’, ‘RANN’, ‘ROSE’\n",
      "\n",
      "\n",
      "Updating HTML index of packages in '.Library'\n",
      "\n",
      "Making 'packages.html' ...\n",
      " done\n",
      "\n"
     ]
    }
   ],
   "source": [
    "install.packages(\"themis\")"
   ]
  },
  {
   "cell_type": "code",
   "execution_count": null,
   "id": "b3c5f27d-ea23-472f-aff5-c234f4825d5e",
   "metadata": {},
   "outputs": [
    {
     "name": "stderr",
     "output_type": "stream",
     "text": [
      "also installing the dependencies ‘gargle’, ‘googledrive’, ‘timechange’, ‘systemfonts’, ‘textshaping’, ‘vroom’, ‘broom’, ‘conflicted’, ‘dbplyr’, ‘dtplyr’, ‘forcats’, ‘ggplot2’, ‘googlesheets4’, ‘haven’, ‘hms’, ‘httr’, ‘jsonlite’, ‘lubridate’, ‘modelr’, ‘purrr’, ‘ragg’, ‘readr’, ‘readxl’, ‘reprex’, ‘rstudioapi’, ‘rvest’, ‘stringr’, ‘tidyr’\n",
      "\n",
      "\n",
      "Warning message in install.packages(\"tidyverse\"):\n",
      "“installation of package ‘systemfonts’ had non-zero exit status”\n",
      "Warning message in install.packages(\"tidyverse\"):\n",
      "“installation of package ‘textshaping’ had non-zero exit status”\n",
      "Warning message in install.packages(\"tidyverse\"):\n",
      "“installation of package ‘vroom’ had non-zero exit status”\n",
      "Warning message in install.packages(\"tidyverse\"):\n",
      "“installation of package ‘httr’ had non-zero exit status”\n"
     ]
    }
   ],
   "source": [
    "install.packages(\"tidyverse\")"
   ]
  },
  {
   "cell_type": "code",
   "execution_count": 2,
   "id": "b02585a0-16b8-4556-a96d-8909bdae4aca",
   "metadata": {
    "id": "b02585a0-16b8-4556-a96d-8909bdae4aca"
   },
   "outputs": [
    {
     "ename": "ERROR",
     "evalue": "Error: package or namespace load failed for ‘tidyverse’ in loadNamespace(i, c(lib.loc, .libPaths()), versionCheck = vI[[i]]):\n namespace ‘rlang’ 1.0.4 is already loaded, but >= 1.1.0 is required\n",
     "output_type": "error",
     "traceback": [
      "Error: package or namespace load failed for ‘tidyverse’ in loadNamespace(i, c(lib.loc, .libPaths()), versionCheck = vI[[i]]):\n namespace ‘rlang’ 1.0.4 is already loaded, but >= 1.1.0 is required\nTraceback:\n",
      "1. library(tidyverse)",
      "2. tryCatch({\n .     attr(package, \"LibPath\") <- which.lib.loc\n .     ns <- loadNamespace(package, lib.loc)\n .     env <- attachNamespace(ns, pos = pos, deps, exclude, include.only)\n . }, error = function(e) {\n .     P <- if (!is.null(cc <- conditionCall(e))) \n .         paste(\" in\", deparse(cc)[1L])\n .     else \"\"\n .     msg <- gettextf(\"package or namespace load failed for %s%s:\\n %s\", \n .         sQuote(package), P, conditionMessage(e))\n .     if (logical.return && !quietly) \n .         message(paste(\"Error:\", msg), domain = NA)\n .     else stop(msg, call. = FALSE, domain = NA)\n . })",
      "3. tryCatchList(expr, classes, parentenv, handlers)",
      "4. tryCatchOne(expr, names, parentenv, handlers[[1L]])",
      "5. value[[3L]](cond)",
      "6. stop(msg, call. = FALSE, domain = NA)"
     ]
    }
   ],
   "source": [
    "\n",
    "library(repr)\n",
    "library(tidyverse)\n",
    "library(tidymodels)\n",
    "library(dplyr)\n",
    "library(themis)\n",
    "library(GGally)"
   ]
  },
  {
   "cell_type": "code",
   "execution_count": null,
   "id": "2b0cd5c5",
   "metadata": {
    "colab": {
     "base_uri": "https://localhost:8080/",
     "height": 826
    },
    "id": "2b0cd5c5",
    "outputId": "b6fc39bb-9696-46ed-d914-cdacf5db97c0"
   },
   "outputs": [],
   "source": [
    "options(repr.matrix.max.rows = 7)\n",
    "\n",
    "wine_quality <- read_delim(\"https://archive.ics.uci.edu/ml/machine-learning-databases/wine-quality/winequality-red.csv\", delim = \";\")\n",
    "colnames(wine_quality) <- make.names(colnames(wine_quality))\n",
    "wine_quality\n",
    "\n",
    "wine_quality <- mutate(wine_quality, across(-quality, as.numeric, na.rm = TRUE)) |>\n",
    "                 mutate(new_quality = case_when(\n",
    "                             quality <= 4 ~ \"bad\",\n",
    "                             between(quality, 5, 6) ~ \"moderate\",\n",
    "                             quality >= 7 ~ \"good\",\n",
    "                             TRUE ~ \"\")) |>\n",
    "                 arrange(quality)\n",
    "wine_quality"
   ]
  },
  {
   "cell_type": "markdown",
   "id": "f1b7e142",
   "metadata": {
    "id": "f1b7e142"
   },
   "source": [
    "### Choosing Predictor Variables\n",
    "\n",
    "  In Figure 1, we created a series of correlation graphs with each variable in the original data set. We observed how each variable had an impact on the classification of the quality of the wine, where ranges shaded red were classified as “bad” wine, ranges shaded blue were classified as “excellent” wine, and regions shaded green were classified as “good” wine. From here we analyzed which variables provided distinct groupings based on quality, to see which columns would be good predictor variables and train the classifier to be more accurate. From the analysis described above, we chose to use the columns we will use when classifying will be Volatile acidity, Citric acid, Sulphates, and Alcohol as predictor variables and Quality as the response variable. Based on the distribution of 1-10 quality, we will categorize quality as a factor between \"bad\", \"moderate\", and \"good\".\n"
   ]
  },
  {
   "cell_type": "code",
   "execution_count": null,
   "id": "35f643ea",
   "metadata": {
    "colab": {
     "base_uri": "https://localhost:8080/",
     "height": 1000
    },
    "id": "35f643ea",
    "outputId": "f00b1519-2a0d-49f1-a331-5c65c41abae5"
   },
   "outputs": [],
   "source": [
    "# correlations between variables\n",
    "options(repr.plot.height = 20, repr.plot.width = 21)\n",
    "library(ggplot2)\n",
    "\n",
    "wine_quality_factored <- mutate(wine_quality, new_quality = as.factor(new_quality)) |>\n",
    "select(-quality)\n",
    "wine_quality_factored\n",
    "\n",
    "wine_pairs <- ggpairs(wine_quality_factored, columns = 1:12, aes(color = new_quality )) +\n",
    "                ggtitle(\"Figure 1: Correlations Between Variables\") +\n",
    "                theme(text = element_text(size = 20))\n",
    "wine_pairs"
   ]
  },
  {
   "cell_type": "code",
   "execution_count": null,
   "id": "4bc31637-7931-4138-8708-efbc4aa32a92",
   "metadata": {
    "colab": {
     "base_uri": "https://localhost:8080/",
     "height": 349
    },
    "id": "4bc31637-7931-4138-8708-efbc4aa32a92",
    "outputId": "573f7cce-87bd-42c5-b724-c2f9fdfde7e4"
   },
   "outputs": [],
   "source": [
    "wine_quality_factored <- select(wine_quality_factored, citric.acid, volatile.acidity, sulphates, alcohol,new_quality)\n",
    "wine_quality_factored"
   ]
  },
  {
   "cell_type": "markdown",
   "id": "iIqjxyK2kARV",
   "metadata": {
    "id": "iIqjxyK2kARV"
   },
   "source": [
    "## Summary Tables\n",
    "Table 1 shows the average values for each predictor variable (citric acid, volatile acidity, sulphates, and alcohol) by quality. \n",
    "\n",
    "## Summary Visualizations\n",
    "Figure 2: Bar plot of number of observations for each quality.\n",
    "\n",
    "Figure 3: Scatter plot of the volatile acidity of observations versus quality shows a negative correlation between volatile acidity and quality.\n",
    "\n",
    "Figure 4: Scatter plot of citric acid content versus quality shows that there is a positive correlation between the citric acid content and the quality.\n",
    "\n",
    "Figure 5: Scatter plot of the alcohol percentage of observations versus quality that shows a positive correlation between the two variables\n",
    "\n",
    "Figure 6: Scatter plot of the sulphates versus quality, this figure shows a positive correlation between the two variables.\n"
   ]
  },
  {
   "cell_type": "code",
   "execution_count": null,
   "id": "7020213f",
   "metadata": {
    "colab": {
     "base_uri": "https://localhost:8080/",
     "height": 1000
    },
    "id": "7020213f",
    "outputId": "6f790922-fef2-4938-9b24-cd302ccec7b2"
   },
   "outputs": [],
   "source": [
    "wine_summary <- group_by(wine_quality, new_quality) |>\n",
    "                summarize(mean_citric = mean(citric.acid), \n",
    "                          mean_acidity = mean(volatile.acidity), \n",
    "                          mean_alcohol = mean(alcohol),\n",
    "                         mean_sulphates = mean(sulphates))\n",
    "wine_summary\n",
    "\n",
    "wine_grouped <- group_by(wine_quality, quality) |>\n",
    "                summarize(observations = n())\n",
    "wine_grouped\n",
    "\n",
    "options(repr.plot.width = 10, repr.plot.height = 8)\n",
    "quality_num_plot <- ggplot(wine_grouped, aes(x = quality, y = observations)) +\n",
    "                        geom_bar(stat = \"identity\") +\n",
    "                        xlab(\"Quality Based on Sensory Rating (0-10)\") +\n",
    "                        ylab(\"Number of Observations\") + \n",
    "                        ggtitle(\"Figure 2: Quality Based on Sensory Rating\") +\n",
    "                        theme(text = element_text(size=14))\n",
    "quality_num_plot\n",
    "\n",
    "acidity_quality_plot <- ggplot(wine_quality, aes(x = volatile.acidity, y = quality)) +\n",
    "                        geom_point(alpha = 0.3) +\n",
    "                        labs(x = \"Volatile Acidity (g(acetic acid)/dm3)\", \n",
    "                         y = \"Quality Sensory Rating (1-10)\", \n",
    "                         title = \"Figure 3: Volatile Acidity by Quality\") +\n",
    "                        theme(text = element_text(size=14))\n",
    "acidity_quality_plot\n",
    "\n",
    "citric_quality_plot <- ggplot(wine_quality, aes(x = citric.acid, y = quality)) +\n",
    "                        geom_point(alpha = 0.3) +\n",
    "                        labs(x = \"Citric Acid (g/dm3)\", \n",
    "                         y = \"Quality Sensory Rating (1-10)\", \n",
    "                         title = \"Figure 4: Citric Acid by Quality\") +\n",
    "                        theme(text = element_text(size=14))\n",
    "citric_quality_plot\n",
    "\n",
    "\n",
    "alc_quality_plot <- ggplot(wine_quality, aes(x = alcohol, y = quality)) +\n",
    "                        geom_point(alpha = 0.3) +\n",
    "                        labs(x = \"Alcohol Content (%)\", \n",
    "                         y = \"Quality Sensory Rating (1-10)\", \n",
    "                         title = \"Figure 5: Alcohol Percentage by Quality\") +\n",
    "                        theme(text = element_text(size=14))\n",
    "alc_quality_plot\n",
    "\n",
    "sulph_quality_plot <- ggplot(wine_quality, aes(x = sulphates, y = quality)) +\n",
    "                        geom_point(alpha = 0.3) +\n",
    "                        labs(x = \"Sulphate Level (g(potassium sulphate)/dm3)\", \n",
    "                         y = \"Quality Sensory Rating (1-10)\", \n",
    "                         title = \"Figure 6: Sulphate Level by Quality\") +\n",
    "                        theme(text = element_text(size=14))\n",
    "sulph_quality_plot"
   ]
  },
  {
   "cell_type": "code",
   "execution_count": null,
   "id": "c8c4ab2d-1eb5-4816-92ba-63a43368a5a5",
   "metadata": {
    "id": "c8c4ab2d-1eb5-4816-92ba-63a43368a5a5"
   },
   "outputs": [],
   "source": []
  },
  {
   "cell_type": "markdown",
   "id": "1Vp4ox-AkuBE",
   "metadata": {
    "id": "1Vp4ox-AkuBE"
   },
   "source": [
    "## Creating the Model\n",
    "After wrangling the dataset, we moved on to creating the KNN classifier model. Since the distribution of our observations by quality is on a bell curve with a high number of moderate observations relative to others as shown in Figure 2, we wanted to rebalance the data and added an upsampling step into our recipe.\n",
    "\n",
    "We will split the dataset into 75% training and 25% test set use the training set to preprocess and create model specification. Next use cross-validation on the training set to determine the best K nearest-neighbor value to use when creating a classifier, which ensures the highest prediction accuracy. Lastly, use the tuned classifier with the K value that gives the highest prediction accuracy on the testing set to predict the quality of an unclassified wine. Using the testing set, we can check the metrics for the model to see how accurate its predictions are.\n"
   ]
  },
  {
   "cell_type": "code",
   "execution_count": null,
   "id": "lKcRHJc8biSG",
   "metadata": {
    "colab": {
     "base_uri": "https://localhost:8080/"
    },
    "id": "lKcRHJc8biSG",
    "outputId": "61a90764-39e3-41f0-b7e1-a804603a7206"
   },
   "outputs": [],
   "source": [
    "ups_recipe <- recipe(new_quality ~ . , data = wine_quality_factored) |> \n",
    "    step_upsample(new_quality , over_ratio = 1, skip = FALSE) |>\n",
    "    prep() \n",
    "    ups_recipe"
   ]
  },
  {
   "cell_type": "code",
   "execution_count": null,
   "id": "MRmjS2PFUOBD",
   "metadata": {
    "colab": {
     "base_uri": "https://localhost:8080/",
     "height": 192
    },
    "id": "MRmjS2PFUOBD",
    "outputId": "9c277e02-9e4f-47f3-f0dc-2f3917acb41d"
   },
   "outputs": [],
   "source": [
    "upsampled_data <- bake(ups_recipe,  wine_quality_factored)\n",
    "\n",
    "upsampled_data |>\n",
    "  group_by(new_quality) |>\n",
    "  summarize(n = n())"
   ]
  },
  {
   "cell_type": "code",
   "execution_count": null,
   "id": "2bffb5f5",
   "metadata": {
    "id": "2bffb5f5"
   },
   "outputs": [],
   "source": [
    "data_split <- initial_split(upsampled_data, prop = 0.75, strata = new_quality) \n",
    "data_train <- training(data_split)\n",
    "data_test <- testing(data_split)"
   ]
  },
  {
   "cell_type": "code",
   "execution_count": null,
   "id": "2f9d3f2b",
   "metadata": {
    "colab": {
     "base_uri": "https://localhost:8080/",
     "height": 349
    },
    "id": "2f9d3f2b",
    "outputId": "04b0352f-50a3-4c02-ef25-87f7f2fa894b"
   },
   "outputs": [],
   "source": [
    "my_recipe <- recipe(new_quality ~ . , data = data_train) |>\n",
    "    step_scale(all_predictors()) |> \n",
    "    step_center(all_predictors()) \n",
    "\n",
    "# specification\n",
    "knn_spec <- nearest_neighbor(weight_func =  \"rectangular\", neighbors = tune()) |> \n",
    "    set_engine(\"kknn\") |>\n",
    "    set_mode(\"classification\")\n",
    "\n",
    "# vfold\n",
    "my_vfold <- vfold_cv(data_train, v = 5, strata = new_quality)\n",
    "\n",
    "# k_values\n",
    "k_vals <- tibble(neighbors = seq(from = 1, to = 50, by = 2))\n",
    "\n",
    "# k validations\n",
    "knn_fit <- workflow() |>\n",
    "    add_recipe(my_recipe) |>\n",
    "    add_model(knn_spec) |>\n",
    "    tune_grid(resamples = my_vfold, grid = k_vals) |>\n",
    "    collect_metrics()\n",
    "knn_fit\n"
   ]
  },
  {
   "cell_type": "code",
   "execution_count": null,
   "id": "26be5d9c",
   "metadata": {
    "colab": {
     "base_uri": "https://localhost:8080/",
     "height": 349
    },
    "id": "26be5d9c",
    "outputId": "310ed6eb-3daa-41fd-92b4-7b8b98625aa5"
   },
   "outputs": [],
   "source": [
    "df_knn_fit <- knn_fit |>\n",
    "    arrange(desc(mean))\n",
    "    \n",
    " df_knn_fit[ df_knn_fit$.metric == \"accuracy\", ]"
   ]
  },
  {
   "cell_type": "markdown",
   "id": "qdRLQdCtlR9D",
   "metadata": {
    "id": "qdRLQdCtlR9D"
   },
   "source": [
    "##Accuracy Visualization:\n",
    "Figure 7: A line plot which shows the correlation between accuracies and k-values. This plot helps us to determine the best k-value to use in the following steps.\n"
   ]
  },
  {
   "cell_type": "code",
   "execution_count": null,
   "id": "9fa4ebb6-af20-4e98-a746-54792d0e04cf",
   "metadata": {
    "colab": {
     "base_uri": "https://localhost:8080/",
     "height": 356
    },
    "id": "9fa4ebb6-af20-4e98-a746-54792d0e04cf",
    "outputId": "bdced565-3c9c-47a5-9e7b-ae8163784c19"
   },
   "outputs": [],
   "source": [
    "knn_spec2 <- nearest_neighbor(weight_func =   \"rectangular\", neighbors = 1) |>\n",
    "set_engine(\"kknn\") |>\n",
    "set_mode(\"classification\")\n",
    "#creating second specification with neighbors value decided from above\n",
    "\n",
    "knn_fit2 <- workflow() |>\n",
    "add_recipe(my_recipe) |>\n",
    "add_model(knn_spec2) |>\n",
    "fit(data = data_train)\n",
    "knn_fit2"
   ]
  },
  {
   "cell_type": "code",
   "execution_count": null,
   "id": "46048b59",
   "metadata": {
    "colab": {
     "base_uri": "https://localhost:8080/",
     "height": 349
    },
    "id": "46048b59",
    "outputId": "ece9822b-cd47-4c40-e590-b99481617c45"
   },
   "outputs": [],
   "source": [
    "#testing classifier on test data set\n",
    "#testing the accuracy of the model on the test data set\n",
    "data_test_predictions <- predict(knn_fit2, data_test) |>\n",
    "    bind_cols(data_test) \n",
    "data_test_predictions"
   ]
  },
  {
   "cell_type": "code",
   "execution_count": null,
   "id": "1fc921cb",
   "metadata": {
    "colab": {
     "base_uri": "https://localhost:8080/",
     "height": 219
    },
    "id": "1fc921cb",
    "outputId": "ed23dc6f-dba6-4569-b931-0347ba341de6"
   },
   "outputs": [],
   "source": [
    "# Compare the accuracy of predictions to the true values in the test set\n",
    "accuracies <- data_test_predictions |> \n",
    "    metrics(truth = new_quality, estimate = .pred_class) |> \n",
    "    select(.metric, .estimate) |> \n",
    "    head(1)\n",
    "accuracies\n",
    "\n",
    "# Compare the predictions to the true values in a confusion matrix\n",
    "wine_cm <- data_test_predictions |> \n",
    "    conf_mat(truth = new_quality, estimate = .pred_class)\n",
    "wine_cm"
   ]
  },
  {
   "cell_type": "code",
   "execution_count": null,
   "id": "9241300e-a435-4bed-8cfc-4165a7aefe30",
   "metadata": {
    "colab": {
     "base_uri": "https://localhost:8080/",
     "height": 497
    },
    "id": "9241300e-a435-4bed-8cfc-4165a7aefe30",
    "outputId": "ea6a8d1a-c5dd-4eac-82ad-5baf7a30d12c"
   },
   "outputs": [],
   "source": [
    "#accuracy of the model\n",
    "accuracies <- knn_fit |>\n",
    "                 filter(.metric == 'accuracy')\n",
    "\n",
    "#the visulization for k-values and accuracy -> to choose the best K\n",
    "k_accuracy_plot <- ggplot(accuracies, aes(x = neighbors, y = mean)) +\n",
    "                  geom_point() +\n",
    "                  geom_line() +\n",
    "                  labs(x = 'Neighbors', y = 'Accuracy Estimate') +\n",
    "                  theme(text = element_text(size = 20)) \n",
    "k_accuracy_plot \n",
    "                   "
   ]
  },
  {
   "cell_type": "code",
   "execution_count": null,
   "id": "cbd3b920-6d59-45a5-8a4b-0663b21b3721",
   "metadata": {
    "colab": {
     "base_uri": "https://localhost:8080/",
     "height": 533
    },
    "id": "cbd3b920-6d59-45a5-8a4b-0663b21b3721",
    "outputId": "99efec59-0993-453a-a217-3ff4083d41e7"
   },
   "outputs": [],
   "source": [
    "# loading necessary libraries\n",
    "\n",
    "library(yardstick)\n",
    "library(ggplot2)\n",
    "\n",
    "options(repr.plot.width = 10, repr.plot.height = 8)\n",
    "cf_plot <- autoplot(wine_cm, type = \"heatmap\") +\n",
    "    scale_fill_gradient(low = \"light gray\", high = \"green\") +\n",
    "    theme(text = element_text(size = 20))\n",
    "cf_plot"
   ]
  },
  {
   "cell_type": "markdown",
   "id": "-qQwEG5MetFM",
   "metadata": {
    "id": "-qQwEG5MetFM"
   },
   "source": [
    "***Plug in the whole original data set which is not upsampled to see wheather the test outcome is accurate(because the test data set is also upsampled  *** "
   ]
  },
  {
   "cell_type": "code",
   "execution_count": null,
   "id": "faJ-vuwmfWzK",
   "metadata": {
    "colab": {
     "base_uri": "https://localhost:8080/",
     "height": 349
    },
    "id": "faJ-vuwmfWzK",
    "outputId": "ac2ec863-048d-4485-f74b-8e1e14ce7096"
   },
   "outputs": [],
   "source": [
    "data_test_predictions <- predict(knn_fit2, wine_quality_factored) |>\n",
    "    bind_cols(wine_quality_factored) \n",
    "data_test_predictions"
   ]
  },
  {
   "cell_type": "code",
   "execution_count": null,
   "id": "0exV7Ezhfw37",
   "metadata": {
    "colab": {
     "base_uri": "https://localhost:8080/",
     "height": 219
    },
    "id": "0exV7Ezhfw37",
    "outputId": "70296f03-87b9-437a-bb00-94a7b8a72bd3"
   },
   "outputs": [],
   "source": [
    "# Compare the accuracy of predictions to the true values in the test set\n",
    "accuracies <- data_test_predictions |> \n",
    "    metrics(truth = new_quality, estimate = .pred_class) |> \n",
    "    select(.metric, .estimate) |> \n",
    "    head(1)\n",
    "accuracies\n",
    "\n",
    "# Compare the predictions to the true values in a confusion matrix\n",
    "wine_cm <- data_test_predictions |> \n",
    "    conf_mat(truth = new_quality, estimate = .pred_class)\n",
    "wine_cm"
   ]
  },
  {
   "cell_type": "markdown",
   "id": "lfHurXtgf0Nj",
   "metadata": {
    "id": "lfHurXtgf0Nj"
   },
   "source": [
    "**It still makes good prediction to the original data set which is not upsampled, we think the test result is accurate**"
   ]
  },
  {
   "cell_type": "markdown",
   "id": "Tiar_cN5lii0",
   "metadata": {
    "id": "Tiar_cN5lii0"
   },
   "source": [
    "## Discussion:\n",
    "\n",
    "Overall, we found that our final classifier model gives an accuracy of around 95% when testing the model on the test data. \n",
    "In k-nearest neighbors algorithm, the number of neighbors is an important hyperparameter that determines the number of nearest neighboring samples used for prediction. When setting the optimal number of neighbors to 1, the model will only consider a single nearest neighbor sample for prediction. In such case, the model may become overly sensitive to the training data and overly complex, leading to overfitting.\n",
    "\n",
    "On the other hand, if upsample technique is used in the training data, it means that samples from the minority class are duplicated or generated to increase their weight during the training process. This may cause the model to overfit the minority class in the training data, resulting in decreased generalization performance on the test data or unseen data.\n",
    "\n",
    "Therefore, setting the optimal number of neighbors to 1 while using upsample technique may result in good performance on the training data but poor performance on the test data or unseen data, indicating overfitting. To mitigate this issue, one can try adjusting the number of neighbors or using other model evaluation techniques such as cross-validation to select appropriate hyperparameter settings and reduce the risk of overfitting.\n",
    "\n",
    "\n",
    "\n",
    "\n",
    "\n",
    "\n",
    "**Impact of our findings:**\n",
    "\n",
    "Based on our current findings, businesses can use our model to test the quality (i.e. good, moderate, or bad) of a new wine. In the future, people who want to test the wine quality can also use our model to test how accurate the estimation of the quality of their wine is. In this case, people can try to test their wine quality with a higher accuracy.\n",
    "\n",
    "**Future Questions:**\n",
    "\n",
    "From our analysis, some future application questions that we might consider would be:\n",
    "“How can the results of this study affect wine manufacturing processes to ensure higher quality?”\n",
    "“How can the results of this analysis affect pricing strategies for wine?”\n",
    "\n",
    "\n",
    "\n",
    "##Citations:\n",
    "Cortez, P., Cerdeira, A., Almeida, F., Matos, T., & Reis, J. (2009). Modeling wine preferences by data mining from physicochemical properties. Decision Support Systems, 47(4), 547–553. https://doi.org/10.1016/j.dss.2009.05.016 \n",
    "\n",
    "Dua, D. and Graff, C. (2019). UCI Machine Learning Repository [http://archive.ics.uci.edu/ml]. Irvine, CA: University of California, School of Information and Computer Science.\n"
   ]
  }
 ],
 "metadata": {
  "colab": {
   "provenance": []
  },
  "kernelspec": {
   "display_name": "R",
   "language": "R",
   "name": "ir"
  },
  "language_info": {
   "codemirror_mode": "r",
   "file_extension": ".r",
   "mimetype": "text/x-r-source",
   "name": "R",
   "pygments_lexer": "r",
   "version": "4.1.3"
  },
  "toc-showcode": false
 },
 "nbformat": 4,
 "nbformat_minor": 5
}
