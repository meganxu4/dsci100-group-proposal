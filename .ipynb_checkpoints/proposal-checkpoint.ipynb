{
 "cells": [
  {
   "cell_type": "markdown",
   "id": "ccdc76e8-f9c0-435b-b79a-ecc329abb38f",
   "metadata": {},
   "source": [
    "# Red Wine Quality Classifier\n",
    "## Introduction:\n",
    "Red wine is a popular type of wine made from dark-colored grapes, known for its rich flavor and complexity. Wine quality is typically evaluated based on factors such as aroma, taste, color, and acidity,etc.\n",
    "We use this dataset to answer “how can we use this dataset so that a business can predict the quality of wine they produce based on its chemical composition”.\n",
    "\n",
    "## There are 12 variables in this dataset:\n",
    "    Input variables (based on physicochemical tests):\n",
    "            1 - fixed acidity ：refers to the non-volatile acids present in wine, which do not evaporate easily.\n",
    "            2 - volatile acidity：refers to the amount of acetic acid in wine, which can lead to an unpleasant vinegar taste if present in excessive amounts.\n",
    "            3 - citric acid ：is found in small quantities in wine and can add a sense of freshness and flavor to it.\n",
    "            4 - residual sugar： refers to the amount of sugar left over after the fermentation process is complete，wines with more than 45 grams per liter are considered sweet.\n",
    "            5 - chlorides : refer to the amount of salt present in wine.\n",
    "            6 - free sulfur dioxide : helps prevent microbial growth and wine oxidation.\n",
    "            7 - total sulfur dioxide :refers to the amount of both free and bound forms of SO2. Concentrations over 50 ppm can be detected in the taste and aroma of wine.\n",
    "            8 - density: Density of wine is close to that of water and depends on its alcohol and sugar content.\n",
    "            9 - pH :measures the acidity or basicity of wine on a scale from 0 to 14\n",
    "            10 - sulphates: are an additive in wine that can contribute to sulfur dioxide gas levels, acting as an antimicrobial and antioxidant.\n",
    "            11 - alcohol:  percentage of alcohol content is an important factor to consider when assessing wine quality.\n",
    "    Output variable (based on sensory rating): \n",
    "            12 - quality :(score between 0 and 10) \n",
    "\n",
    "## Preliminary exploratory data analysis: \n",
    "(Demonstrate that the dataset can be read from the web into R. Clean and wrangle your data into a tidy format. Using only training data, summarize the data in at least one table (this is exploratory data analysis). An example of a useful table could be one that reports the number of observations in each class, the means of the predictor variables you plan to use in your analysis and how many rows have missing data. Using only training data, visualize the data with at least one plot relevant to the analysis you plan to do (this is exploratory data analysis). An example of a useful visualization could be one that compares the distributions of each of the predictor variables you plan to use in your analysis.)\n",
    "\n",
    "## Methods: \n",
    "First split the data set into training and data set. Use training set to preprocess and create model specification. Next use cross-validation on training set to determine the best K nearest-neighbor value to use when creating a classifier, which ensures the highest prediction accuracy. Lastly use the tuned classifier with K value that gives the highest prediction accuracy on the test setto predict the quality of the newly introduced wine. \n",
    "<br>\n",
    "The columns we will use when classifying will be pH, alcohol, sulphates, residual sugar, volatile acidity, and quality. The classifier variable is quality while the predictor variables are pH, alcohol, sulphates, residual sugar, volatile yacidity, and quality.\n",
    "Since the rating of the quality is a scale from 0 to 10 (distinct numerical values) and is being compared to different wines numbered 1 to n, where n is the total number of wines used (ordered, distinct numerical values), the best visualization to visualize the results would be a line plot. The visualization of the results would include the different wines (numbered) on the x-axis and their ratings from 0-10 on the y-axis. It will show the relative relationship between the different wines, with the newly introduced wine included, and their relative wine quality ratings.\n",
    "<br>\n",
    "## Expected outcomes and significance: \n",
    "In this research, we expected to find which physicochemical properties make a high-quality red wine, and what chemical compositions are required for a high-quality red wine. \n",
    "Once we know what physicochemical properties contribute to a good quality score, businesses will be able to use this information to help them produce higher quality wine.\n",
    "Based on our findings, we came up with two questions that can be worked on in the future: \n",
    "1. “What role does each chemical composition play in the formation of a high-quality red wine?” \n",
    "2. “What relationships between these properties contribute to the formation of a high-quality wine?”"
   ]
  },
  {
   "cell_type": "markdown",
   "id": "6e7d5cbd-ea87-485b-9d2e-66265aca1c27",
   "metadata": {},
   "source": [
    "## *Reading and Tidying Data*"
   ]
  },
  {
   "cell_type": "code",
   "execution_count": 8,
   "id": "276db76b-8029-47c0-9522-573a342beaf6",
   "metadata": {},
   "outputs": [
    {
     "name": "stderr",
     "output_type": "stream",
     "text": [
      "\u001b[36mℹ\u001b[39m Using \u001b[34m\u001b[34m\"','\"\u001b[34m\u001b[39m as decimal and \u001b[34m\u001b[34m\"'.'\"\u001b[34m\u001b[39m as grouping mark. Use `read_delim()` for more control.\n",
      "\n",
      "Warning message:\n",
      "“One or more parsing issues, see `problems()` for details”\n",
      "\u001b[1mRows: \u001b[22m\u001b[34m1599\u001b[39m \u001b[1mColumns: \u001b[22m\u001b[34m12\u001b[39m\n",
      "\u001b[36m──\u001b[39m \u001b[1mColumn specification\u001b[22m \u001b[36m────────────────────────────────────────────────────────\u001b[39m\n",
      "\u001b[1mDelimiter:\u001b[22m \";\"\n",
      "\u001b[31mchr\u001b[39m (5): volatile acidity, citric acid, chlorides, density, sulphates\n",
      "\u001b[32mdbl\u001b[39m (2): total sulfur dioxide, quality\n",
      "\n",
      "\u001b[36mℹ\u001b[39m Use `spec()` to retrieve the full column specification for this data.\n",
      "\u001b[36mℹ\u001b[39m Specify the column types or set `show_col_types = FALSE` to quiet this message.\n"
     ]
    },
    {
     "data": {
      "text/html": [
       "<table class=\"dataframe\">\n",
       "<caption>A spec_tbl_df: 1599 × 12</caption>\n",
       "<thead>\n",
       "\t<tr><th scope=col>fixed.acidity</th><th scope=col>volatile.acidity</th><th scope=col>citric.acid</th><th scope=col>residual.sugar</th><th scope=col>chlorides</th><th scope=col>free.sulfur.dioxide</th><th scope=col>total.sulfur.dioxide</th><th scope=col>density</th><th scope=col>pH</th><th scope=col>sulphates</th><th scope=col>alcohol</th><th scope=col>quality</th></tr>\n",
       "\t<tr><th scope=col>&lt;dbl&gt;</th><th scope=col>&lt;chr&gt;</th><th scope=col>&lt;chr&gt;</th><th scope=col>&lt;dbl&gt;</th><th scope=col>&lt;chr&gt;</th><th scope=col>&lt;dbl&gt;</th><th scope=col>&lt;dbl&gt;</th><th scope=col>&lt;chr&gt;</th><th scope=col>&lt;dbl&gt;</th><th scope=col>&lt;chr&gt;</th><th scope=col>&lt;dbl&gt;</th><th scope=col>&lt;dbl&gt;</th></tr>\n",
       "</thead>\n",
       "<tbody>\n",
       "\t<tr><td>74</td><td>0.7 </td><td>0   </td><td>19</td><td>0.076</td><td>11</td><td>34</td><td>0.9978</td><td>351</td><td>0.56</td><td>94</td><td>5</td></tr>\n",
       "\t<tr><td>78</td><td>0.88</td><td>0   </td><td>26</td><td>0.098</td><td>25</td><td>67</td><td>0.9968</td><td> 32</td><td>0.68</td><td>98</td><td>5</td></tr>\n",
       "\t<tr><td>78</td><td>0.76</td><td>0.04</td><td>23</td><td>0.092</td><td>15</td><td>54</td><td>0.997 </td><td>326</td><td>0.65</td><td>98</td><td>5</td></tr>\n",
       "\t<tr><td>⋮</td><td>⋮</td><td>⋮</td><td>⋮</td><td>⋮</td><td>⋮</td><td>⋮</td><td>⋮</td><td>⋮</td><td>⋮</td><td>⋮</td><td>⋮</td></tr>\n",
       "\t<tr><td>63</td><td>0.51 </td><td>0.13</td><td>23</td><td>0.076</td><td>29</td><td>40</td><td>0.99574</td><td>342</td><td>0.75</td><td> 11</td><td>6</td></tr>\n",
       "\t<tr><td>59</td><td>0.645</td><td>0.12</td><td> 2</td><td>0.075</td><td>32</td><td>44</td><td>0.99547</td><td>357</td><td>0.71</td><td>102</td><td>5</td></tr>\n",
       "\t<tr><td> 6</td><td>0.31 </td><td>0.47</td><td>36</td><td>0.067</td><td>18</td><td>42</td><td>0.99549</td><td>339</td><td>0.66</td><td> 11</td><td>6</td></tr>\n",
       "</tbody>\n",
       "</table>\n"
      ],
      "text/latex": [
       "A spec\\_tbl\\_df: 1599 × 12\n",
       "\\begin{tabular}{llllllllllll}\n",
       " fixed.acidity & volatile.acidity & citric.acid & residual.sugar & chlorides & free.sulfur.dioxide & total.sulfur.dioxide & density & pH & sulphates & alcohol & quality\\\\\n",
       " <dbl> & <chr> & <chr> & <dbl> & <chr> & <dbl> & <dbl> & <chr> & <dbl> & <chr> & <dbl> & <dbl>\\\\\n",
       "\\hline\n",
       "\t 74 & 0.7  & 0    & 19 & 0.076 & 11 & 34 & 0.9978 & 351 & 0.56 & 94 & 5\\\\\n",
       "\t 78 & 0.88 & 0    & 26 & 0.098 & 25 & 67 & 0.9968 &  32 & 0.68 & 98 & 5\\\\\n",
       "\t 78 & 0.76 & 0.04 & 23 & 0.092 & 15 & 54 & 0.997  & 326 & 0.65 & 98 & 5\\\\\n",
       "\t ⋮ & ⋮ & ⋮ & ⋮ & ⋮ & ⋮ & ⋮ & ⋮ & ⋮ & ⋮ & ⋮ & ⋮\\\\\n",
       "\t 63 & 0.51  & 0.13 & 23 & 0.076 & 29 & 40 & 0.99574 & 342 & 0.75 &  11 & 6\\\\\n",
       "\t 59 & 0.645 & 0.12 &  2 & 0.075 & 32 & 44 & 0.99547 & 357 & 0.71 & 102 & 5\\\\\n",
       "\t  6 & 0.31  & 0.47 & 36 & 0.067 & 18 & 42 & 0.99549 & 339 & 0.66 &  11 & 6\\\\\n",
       "\\end{tabular}\n"
      ],
      "text/markdown": [
       "\n",
       "A spec_tbl_df: 1599 × 12\n",
       "\n",
       "| fixed.acidity &lt;dbl&gt; | volatile.acidity &lt;chr&gt; | citric.acid &lt;chr&gt; | residual.sugar &lt;dbl&gt; | chlorides &lt;chr&gt; | free.sulfur.dioxide &lt;dbl&gt; | total.sulfur.dioxide &lt;dbl&gt; | density &lt;chr&gt; | pH &lt;dbl&gt; | sulphates &lt;chr&gt; | alcohol &lt;dbl&gt; | quality &lt;dbl&gt; |\n",
       "|---|---|---|---|---|---|---|---|---|---|---|---|\n",
       "| 74 | 0.7  | 0    | 19 | 0.076 | 11 | 34 | 0.9978 | 351 | 0.56 | 94 | 5 |\n",
       "| 78 | 0.88 | 0    | 26 | 0.098 | 25 | 67 | 0.9968 |  32 | 0.68 | 98 | 5 |\n",
       "| 78 | 0.76 | 0.04 | 23 | 0.092 | 15 | 54 | 0.997  | 326 | 0.65 | 98 | 5 |\n",
       "| ⋮ | ⋮ | ⋮ | ⋮ | ⋮ | ⋮ | ⋮ | ⋮ | ⋮ | ⋮ | ⋮ | ⋮ |\n",
       "| 63 | 0.51  | 0.13 | 23 | 0.076 | 29 | 40 | 0.99574 | 342 | 0.75 |  11 | 6 |\n",
       "| 59 | 0.645 | 0.12 |  2 | 0.075 | 32 | 44 | 0.99547 | 357 | 0.71 | 102 | 5 |\n",
       "|  6 | 0.31  | 0.47 | 36 | 0.067 | 18 | 42 | 0.99549 | 339 | 0.66 |  11 | 6 |\n",
       "\n"
      ],
      "text/plain": [
       "     fixed.acidity volatile.acidity citric.acid residual.sugar chlorides\n",
       "1    74            0.7              0           19             0.076    \n",
       "2    78            0.88             0           26             0.098    \n",
       "3    78            0.76             0.04        23             0.092    \n",
       "⋮    ⋮             ⋮                ⋮           ⋮              ⋮        \n",
       "1597 63            0.51             0.13        23             0.076    \n",
       "1598 59            0.645            0.12         2             0.075    \n",
       "1599  6            0.31             0.47        36             0.067    \n",
       "     free.sulfur.dioxide total.sulfur.dioxide density pH  sulphates alcohol\n",
       "1    11                  34                   0.9978  351 0.56      94     \n",
       "2    25                  67                   0.9968   32 0.68      98     \n",
       "3    15                  54                   0.997   326 0.65      98     \n",
       "⋮    ⋮                   ⋮                    ⋮       ⋮   ⋮         ⋮      \n",
       "1597 29                  40                   0.99574 342 0.75       11    \n",
       "1598 32                  44                   0.99547 357 0.71      102    \n",
       "1599 18                  42                   0.99549 339 0.66       11    \n",
       "     quality\n",
       "1    5      \n",
       "2    5      \n",
       "3    5      \n",
       "⋮    ⋮      \n",
       "1597 6      \n",
       "1598 5      \n",
       "1599 6      "
      ]
     },
     "metadata": {},
     "output_type": "display_data"
    },
    {
     "data": {
      "text/html": [
       "<table class=\"dataframe\">\n",
       "<caption>A tibble: 1599 × 6</caption>\n",
       "<thead>\n",
       "\t<tr><th scope=col>volatile.acidity</th><th scope=col>pH</th><th scope=col>alcohol</th><th scope=col>sulphates</th><th scope=col>residual.sugar</th><th scope=col>quality</th></tr>\n",
       "\t<tr><th scope=col>&lt;dbl&gt;</th><th scope=col>&lt;dbl&gt;</th><th scope=col>&lt;dbl&gt;</th><th scope=col>&lt;dbl&gt;</th><th scope=col>&lt;dbl&gt;</th><th scope=col>&lt;dbl&gt;</th></tr>\n",
       "</thead>\n",
       "<tbody>\n",
       "\t<tr><td>0.70</td><td>351</td><td>94</td><td>0.56</td><td>19</td><td>5</td></tr>\n",
       "\t<tr><td>0.88</td><td> 32</td><td>98</td><td>0.68</td><td>26</td><td>5</td></tr>\n",
       "\t<tr><td>0.76</td><td>326</td><td>98</td><td>0.65</td><td>23</td><td>5</td></tr>\n",
       "\t<tr><td>⋮</td><td>⋮</td><td>⋮</td><td>⋮</td><td>⋮</td><td>⋮</td></tr>\n",
       "\t<tr><td>0.510</td><td>342</td><td> 11</td><td>0.75</td><td>23</td><td>6</td></tr>\n",
       "\t<tr><td>0.645</td><td>357</td><td>102</td><td>0.71</td><td> 2</td><td>5</td></tr>\n",
       "\t<tr><td>0.310</td><td>339</td><td> 11</td><td>0.66</td><td>36</td><td>6</td></tr>\n",
       "</tbody>\n",
       "</table>\n"
      ],
      "text/latex": [
       "A tibble: 1599 × 6\n",
       "\\begin{tabular}{llllll}\n",
       " volatile.acidity & pH & alcohol & sulphates & residual.sugar & quality\\\\\n",
       " <dbl> & <dbl> & <dbl> & <dbl> & <dbl> & <dbl>\\\\\n",
       "\\hline\n",
       "\t 0.70 & 351 & 94 & 0.56 & 19 & 5\\\\\n",
       "\t 0.88 &  32 & 98 & 0.68 & 26 & 5\\\\\n",
       "\t 0.76 & 326 & 98 & 0.65 & 23 & 5\\\\\n",
       "\t ⋮ & ⋮ & ⋮ & ⋮ & ⋮ & ⋮\\\\\n",
       "\t 0.510 & 342 &  11 & 0.75 & 23 & 6\\\\\n",
       "\t 0.645 & 357 & 102 & 0.71 &  2 & 5\\\\\n",
       "\t 0.310 & 339 &  11 & 0.66 & 36 & 6\\\\\n",
       "\\end{tabular}\n"
      ],
      "text/markdown": [
       "\n",
       "A tibble: 1599 × 6\n",
       "\n",
       "| volatile.acidity &lt;dbl&gt; | pH &lt;dbl&gt; | alcohol &lt;dbl&gt; | sulphates &lt;dbl&gt; | residual.sugar &lt;dbl&gt; | quality &lt;dbl&gt; |\n",
       "|---|---|---|---|---|---|\n",
       "| 0.70 | 351 | 94 | 0.56 | 19 | 5 |\n",
       "| 0.88 |  32 | 98 | 0.68 | 26 | 5 |\n",
       "| 0.76 | 326 | 98 | 0.65 | 23 | 5 |\n",
       "| ⋮ | ⋮ | ⋮ | ⋮ | ⋮ | ⋮ |\n",
       "| 0.510 | 342 |  11 | 0.75 | 23 | 6 |\n",
       "| 0.645 | 357 | 102 | 0.71 |  2 | 5 |\n",
       "| 0.310 | 339 |  11 | 0.66 | 36 | 6 |\n",
       "\n"
      ],
      "text/plain": [
       "     volatile.acidity pH  alcohol sulphates residual.sugar quality\n",
       "1    0.70             351 94      0.56      19             5      \n",
       "2    0.88              32 98      0.68      26             5      \n",
       "3    0.76             326 98      0.65      23             5      \n",
       "⋮    ⋮                ⋮   ⋮       ⋮         ⋮              ⋮      \n",
       "1597 0.510            342  11     0.75      23             6      \n",
       "1598 0.645            357 102     0.71       2             5      \n",
       "1599 0.310            339  11     0.66      36             6      "
      ]
     },
     "metadata": {},
     "output_type": "display_data"
    }
   ],
   "source": [
    "library(repr)\n",
    "library(tidyverse)\n",
    "library(tidymodels)\n",
    "options(repr.matrix.max.rows = 6)\n",
    "\n",
    "wine_quality <- read_csv2(\"data/winequality-red.csv\")\n",
    "colnames(wine_quality) <- make.names(colnames(wine_quality))\n",
    "wine_quality\n",
    "\n",
    "wine_quality <- select(wine_quality, volatile.acidity, pH, alcohol, sulphates, residual.sugar, quality) |>\n",
    "                         mutate(across(1:6, as.numeric))\n",
    "wine_quality"
   ]
  },
  {
   "cell_type": "markdown",
   "id": "01880abd-2084-4a62-88d9-1f34f53bfd41",
   "metadata": {},
   "source": [
    "## **Wrangling and Visualizing**\n",
    "Summary table including mean column values, grouped by quality.\n",
    "Plot of number of observations for each quality of wine."
   ]
  },
  {
   "cell_type": "code",
   "execution_count": 9,
   "id": "66468c05-3f04-4bf4-a9f9-c0c66a7c0d82",
   "metadata": {},
   "outputs": [
    {
     "data": {
      "text/html": [
       "<table class=\"dataframe\">\n",
       "<caption>A tibble: 6 × 6</caption>\n",
       "<thead>\n",
       "\t<tr><th scope=col>quality</th><th scope=col>mean_pH</th><th scope=col>mean_acidity</th><th scope=col>mean_alcohol</th><th scope=col>mean_sulphates</th><th scope=col>mean_sugar</th></tr>\n",
       "\t<tr><th scope=col>&lt;dbl&gt;</th><th scope=col>&lt;dbl&gt;</th><th scope=col>&lt;dbl&gt;</th><th scope=col>&lt;dbl&gt;</th><th scope=col>&lt;dbl&gt;</th><th scope=col>&lt;dbl&gt;</th></tr>\n",
       "</thead>\n",
       "<tbody>\n",
       "\t<tr><td>3</td><td>277.7000</td><td>0.8845000</td><td>1.711000e+02</td><td>0.5700000</td><td>64.60000</td></tr>\n",
       "\t<tr><td>4</td><td>285.5094</td><td>0.6939623</td><td>9.866038e+01</td><td>0.5964151</td><td>24.90566</td></tr>\n",
       "\t<tr><td>5</td><td>297.4816</td><td>0.5770411</td><td>9.308957e+01</td><td>0.6209692</td><td>27.25110</td></tr>\n",
       "\t<tr><td>6</td><td>298.5721</td><td>0.4974843</td><td>3.434692e+12</td><td>0.6753292</td><td>22.47962</td></tr>\n",
       "\t<tr><td>7</td><td>294.7035</td><td>0.4039196</td><td>6.817420e+11</td><td>0.7412563</td><td>37.33668</td></tr>\n",
       "\t<tr><td>8</td><td>293.2222</td><td>0.4233333</td><td>9.094444e+01</td><td>0.7677778</td><td>23.77778</td></tr>\n",
       "</tbody>\n",
       "</table>\n"
      ],
      "text/latex": [
       "A tibble: 6 × 6\n",
       "\\begin{tabular}{llllll}\n",
       " quality & mean\\_pH & mean\\_acidity & mean\\_alcohol & mean\\_sulphates & mean\\_sugar\\\\\n",
       " <dbl> & <dbl> & <dbl> & <dbl> & <dbl> & <dbl>\\\\\n",
       "\\hline\n",
       "\t 3 & 277.7000 & 0.8845000 & 1.711000e+02 & 0.5700000 & 64.60000\\\\\n",
       "\t 4 & 285.5094 & 0.6939623 & 9.866038e+01 & 0.5964151 & 24.90566\\\\\n",
       "\t 5 & 297.4816 & 0.5770411 & 9.308957e+01 & 0.6209692 & 27.25110\\\\\n",
       "\t 6 & 298.5721 & 0.4974843 & 3.434692e+12 & 0.6753292 & 22.47962\\\\\n",
       "\t 7 & 294.7035 & 0.4039196 & 6.817420e+11 & 0.7412563 & 37.33668\\\\\n",
       "\t 8 & 293.2222 & 0.4233333 & 9.094444e+01 & 0.7677778 & 23.77778\\\\\n",
       "\\end{tabular}\n"
      ],
      "text/markdown": [
       "\n",
       "A tibble: 6 × 6\n",
       "\n",
       "| quality &lt;dbl&gt; | mean_pH &lt;dbl&gt; | mean_acidity &lt;dbl&gt; | mean_alcohol &lt;dbl&gt; | mean_sulphates &lt;dbl&gt; | mean_sugar &lt;dbl&gt; |\n",
       "|---|---|---|---|---|---|\n",
       "| 3 | 277.7000 | 0.8845000 | 1.711000e+02 | 0.5700000 | 64.60000 |\n",
       "| 4 | 285.5094 | 0.6939623 | 9.866038e+01 | 0.5964151 | 24.90566 |\n",
       "| 5 | 297.4816 | 0.5770411 | 9.308957e+01 | 0.6209692 | 27.25110 |\n",
       "| 6 | 298.5721 | 0.4974843 | 3.434692e+12 | 0.6753292 | 22.47962 |\n",
       "| 7 | 294.7035 | 0.4039196 | 6.817420e+11 | 0.7412563 | 37.33668 |\n",
       "| 8 | 293.2222 | 0.4233333 | 9.094444e+01 | 0.7677778 | 23.77778 |\n",
       "\n"
      ],
      "text/plain": [
       "  quality mean_pH  mean_acidity mean_alcohol mean_sulphates mean_sugar\n",
       "1 3       277.7000 0.8845000    1.711000e+02 0.5700000      64.60000  \n",
       "2 4       285.5094 0.6939623    9.866038e+01 0.5964151      24.90566  \n",
       "3 5       297.4816 0.5770411    9.308957e+01 0.6209692      27.25110  \n",
       "4 6       298.5721 0.4974843    3.434692e+12 0.6753292      22.47962  \n",
       "5 7       294.7035 0.4039196    6.817420e+11 0.7412563      37.33668  \n",
       "6 8       293.2222 0.4233333    9.094444e+01 0.7677778      23.77778  "
      ]
     },
     "metadata": {},
     "output_type": "display_data"
    },
    {
     "data": {
      "text/html": [
       "<table class=\"dataframe\">\n",
       "<caption>A tibble: 6 × 2</caption>\n",
       "<thead>\n",
       "\t<tr><th scope=col>quality</th><th scope=col>observations</th></tr>\n",
       "\t<tr><th scope=col>&lt;dbl&gt;</th><th scope=col>&lt;int&gt;</th></tr>\n",
       "</thead>\n",
       "<tbody>\n",
       "\t<tr><td>3</td><td> 10</td></tr>\n",
       "\t<tr><td>4</td><td> 53</td></tr>\n",
       "\t<tr><td>5</td><td>681</td></tr>\n",
       "\t<tr><td>6</td><td>638</td></tr>\n",
       "\t<tr><td>7</td><td>199</td></tr>\n",
       "\t<tr><td>8</td><td> 18</td></tr>\n",
       "</tbody>\n",
       "</table>\n"
      ],
      "text/latex": [
       "A tibble: 6 × 2\n",
       "\\begin{tabular}{ll}\n",
       " quality & observations\\\\\n",
       " <dbl> & <int>\\\\\n",
       "\\hline\n",
       "\t 3 &  10\\\\\n",
       "\t 4 &  53\\\\\n",
       "\t 5 & 681\\\\\n",
       "\t 6 & 638\\\\\n",
       "\t 7 & 199\\\\\n",
       "\t 8 &  18\\\\\n",
       "\\end{tabular}\n"
      ],
      "text/markdown": [
       "\n",
       "A tibble: 6 × 2\n",
       "\n",
       "| quality &lt;dbl&gt; | observations &lt;int&gt; |\n",
       "|---|---|\n",
       "| 3 |  10 |\n",
       "| 4 |  53 |\n",
       "| 5 | 681 |\n",
       "| 6 | 638 |\n",
       "| 7 | 199 |\n",
       "| 8 |  18 |\n",
       "\n"
      ],
      "text/plain": [
       "  quality observations\n",
       "1 3        10         \n",
       "2 4        53         \n",
       "3 5       681         \n",
       "4 6       638         \n",
       "5 7       199         \n",
       "6 8        18         "
      ]
     },
     "metadata": {},
     "output_type": "display_data"
    },
    {
     "data": {
      "image/png": "[encoded data removed]",
      "text/plain": [
       "plot without title"
      ]
     },
     "metadata": {
      "image/png": {
       "height": 420,
       "width": 420
      }
     },
     "output_type": "display_data"
    }
   ],
   "source": [
    "wine_summary <- group_by(wine_quality, quality) |>\n",
    "                summarize(mean_pH = mean(pH), \n",
    "                          mean_acidity = mean(volatile.acidity), \n",
    "                          mean_alcohol = mean(alcohol),\n",
    "                         mean_sulphates = mean(sulphates),\n",
    "                         mean_sugar = mean(residual.sugar))\n",
    "wine_summary\n",
    "\n",
    "wine_grouped <- group_by(wine_quality, quality) |>\n",
    "                summarize(observations = n())\n",
    "wine_grouped\n",
    "\n",
    "quality_plot <- ggplot(wine_grouped, aes(x = quality, y = observations)) +\n",
    "                        geom_bar(stat = \"identity\") +\n",
    "                        xlab(\"Quality of Red Wine\") +\n",
    "                        ylab(\"Number of Observations\") + \n",
    "                        theme(text = element_text(size=20))\n",
    "quality_plot"
   ]
  },
  {
   "cell_type": "code",
   "execution_count": null,
   "id": "71e752d1-a156-436b-940c-937bff2f85a4",
   "metadata": {},
   "outputs": [],
   "source": []
  }
 ],
 "metadata": {
  "kernelspec": {
   "display_name": "R",
   "language": "R",
   "name": "ir"
  },
  "language_info": {
   "codemirror_mode": "r",
   "file_extension": ".r",
   "mimetype": "text/x-r-source",
   "name": "R",
   "pygments_lexer": "r",
   "version": "4.1.3"
  }
 },
 "nbformat": 4,
 "nbformat_minor": 5
}
